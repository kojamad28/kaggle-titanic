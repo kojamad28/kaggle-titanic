{
 "cells": [
  {
   "cell_type": "code",
   "execution_count": null,
   "metadata": {},
   "outputs": [],
   "source": [
    "from pycaret import classification\n",
    "\n",
    "from utils.estimators import DataImporter, PycaretEstimator"
   ]
  },
  {
   "cell_type": "code",
   "execution_count": null,
   "metadata": {},
   "outputs": [],
   "source": [
    "competition_name = ''\n",
    "input_dir = './input/'\n",
    "train_file = 'train.csv'\n",
    "test_file = 'test.csv'\n",
    "sample_submission_file = 'sample_submission.csv'\n",
    "index_col=None"
   ]
  },
  {
   "cell_type": "code",
   "execution_count": null,
   "metadata": {},
   "outputs": [],
   "source": [
    "data_importer = DataImporter(index_col=index_col)\n",
    "input_data = data_importer.read()"
   ]
  },
  {
   "cell_type": "code",
   "execution_count": null,
   "metadata": {},
   "outputs": [],
   "source": [
    "clf_01 = PycaretEstimator(\n",
    "    mod=classification, input_data=input_data, session_id=123,\n",
    "    normalize=True,\n",
    "    transformation=True,\n",
    "    combine_rare_levels=True, rare_level_threshold=0.05,\n",
    "    remove_multicollinearity=True, multicollinearity_threshold=0.95\n",
    ")"
   ]
  },
  {
   "cell_type": "code",
   "execution_count": null,
   "metadata": {},
   "outputs": [],
   "source": [
    "df_submission_01 = clf_01.check_baseline(metric='Accuracy')"
   ]
  },
  {
   "cell_type": "code",
   "execution_count": null,
   "metadata": {},
   "outputs": [],
   "source": [
    "df_submission_01.head()"
   ]
  },
  {
   "cell_type": "code",
   "execution_count": null,
   "metadata": {},
   "outputs": [],
   "source": [
    "include_index = index_col is not None\n",
    "df_submission_01.to_csv(f'./output/{competition_name}_submit01.csv', index=include_index)"
   ]
  }
 ],
 "metadata": {
  "language_info": {
   "name": "python"
  }
 },
 "nbformat": 4,
 "nbformat_minor": 2
}
